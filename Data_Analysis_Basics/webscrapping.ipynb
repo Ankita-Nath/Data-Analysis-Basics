{
 "cells": [
  {
   "cell_type": "code",
   "execution_count": 1,
   "metadata": {},
   "outputs": [],
   "source": [
    "import requests\n",
    "import bs4"
   ]
  },
  {
   "cell_type": "code",
   "execution_count": 2,
   "metadata": {},
   "outputs": [],
   "source": [
    "res=requests.get('https://google.co.in')"
   ]
  },
  {
   "cell_type": "code",
   "execution_count": 3,
   "metadata": {},
   "outputs": [
    {
     "data": {
      "text/plain": [
       "requests.models.Response"
      ]
     },
     "execution_count": 3,
     "metadata": {},
     "output_type": "execute_result"
    }
   ],
   "source": [
    "type(res)"
   ]
  },
  {
   "cell_type": "code",
   "execution_count": 4,
   "metadata": {},
   "outputs": [
    {
     "data": {
      "text/plain": [
       "'<!doctype html><html itemscope=\"\" itemtype=\"http://schema.org/WebPage\" lang=\"en-IN\"><head><meta content=\"text/html; charset=UTF-8\" http-equiv=\"Content-Type\"><meta content=\"/images/branding/googleg/1x/googleg_standard_color_128dp.png\" itemprop=\"image\"><title>Google</title><script nonce=\"6gWAh+Fbg/C4wwkukWKMEQ==\">(function(){window.google={kEI:\\'qXW8X_fDJ4GFmgfchKbADQ\\',kEXPI:\\'0,202162,1157247,731,223,755,4349,207,3204,10,1226,364,1499,612,205,383,246,5,1354,222,426,3451,315,3,66,767,218,282,982,1525,650,1683,7,1995,1115174,1197728,555,7,328977,13677,4855,32691,16115,6056,22628,9188,8384,4858,1362,283,9007,3026,2819,1073,850,11033,1808,4020,978,7931,5297,2054,920,873,4192,6430,1141,7512,5874,4518,2777,919,2277,8,2796,1593,1279,2212,530,149,1103,840,517,1522,158,4100,312,1132,4,3,2063,606,2023,1777,143,377,1947,2229,93,328,1284,16,2927,2247,1812,1787,3227,2845,9,5597,6755,4454,642,7876,3749,1180,108,2855,554,906,2,941,2614,2397,7468,3277,3,346,230,970,44,1,820,7,2544,2074,148,5991,7984,4,1142,386,2304,224,1016,267,874,285,120,1860,445,1371,577,74,15,448,43,1211,52,214,2163,17,447,459,1555,4067,1036,1315,3,3280,1426,69,305,2310,1514,603,2,406,286,1753,2658,491,4270,912,564,689,430,31,1302,982,1570,24,115,3094,990,53,3,3026,253,2,2214,849,1456,638,668,956,427,48,2,567,917,91,1794,8,1,1,250,1024,326,992,756,613,55,92,653,611,3229,773,2,777,104,319,230,587,11,731,64,601,337,1808,2897,770,145,1999,353,48,57,422,514,640,413,849,59,777,4,337,25,17,16,241,193,891,14,1,104,621,112,925,6,100,132,676,3,105,59,38,740,585,1340,658,16,1,686,261,2,478,576,315,1359,16,1359,240,1223,11,30,1001,919,69,279,46,422,178,4,200,800,451,964,381,81,5731064,3863,8798053,549,333,444,1,2,80,1,900,896,1,9,2,2551,1,748,141,59,736,563,1,4265,1,1,2,1017,9,305,3299,248,595,1,1336,558,5,92,23,9,5,9,60,3,8,5,20738127,3220021,692211,2023926,17691,8281\\',kBL:\\'9-0U\\'};google.sn=\\'webhp\\';google.kHL=\\'en-IN\\';})();(function(){google.lc=[];google.li=0;google.getEI=function(a){for(var c;a&&(!a.getAttribute||!(c=a.getAttribute(\"eid\")));)a=a.parentNode;return c||google.kEI};google.getLEI=function(a){for(var c=null;a&&(!a.getAttribute||!(c=a.getAttribute(\"leid\")));)a=a.parentNode;return c};google.ml=function(){return null};google.time=function(){return Date.now()};google.log=function(a,c,b,d,g){if(b=google.logUrl(a,c,b,d,g)){a=new Image;var e=google.lc,f=google.li;e[f]=a;a.onerror=a.onload=a.onabort=function(){delete e[f]};google.vel&&google.vel.lu&&google.vel.lu(b);a.src=b;google.li=f+1}};google.logUrl=function(a,c,b,d,g){var e=\"\",f=google.ls||\"\";b||-1!=c.search(\"&ei=\")||(e=\"&ei=\"+google.getEI(d),-1==c.search(\"&lei=\")&&(d=google.getLEI(d))&&(e+=\"&lei=\"+d));d=\"\";!b&&google.cshid&&-1==c.search(\"&cshid=\")&&\"slh\"!=a&&(d=\"&cshid=\"+google.cshid);b=b||\"/\"+(g||\"gen_204\")+\"?atyp=i&ct=\"+a+\"&cad=\"+c+e+f+\"&zx=\"+google.time()+d;/^http:/i.test(b)&&\"https:\"==window.location.protocol&&(google.ml(Error(\"a\"),!1,{src:b,glmm:1}),b=\"\");return b};}).call(this);(function(){google.y={};google.x=function(a,b){if(a)var c=a.id;else{do c=Math.random();while(google.y[c])}google.y[c]=[a,b];return!1};google.lm=[];google.plm=function(a){google.lm.push.apply(google.lm,a)};google.lq=[];google.load=function(a,b,c){google.lq.push([[a],b,c])};google.loadAll=function(a,b){google.lq.push([a,b])};}).call(this);google.f={};(function(){\\ndocument.documentElement.addEventListener(\"submit\",function(b){var a;if(a=b.target){var c=a.getAttribute(\"data-submitfalse\");a=\"1\"==c||\"q\"==c&&!a.elements.q.value?!0:!1}else a=!1;a&&(b.preventDefault(),b.stopPropagation())},!0);document.documentElement.addEventListener(\"click\",function(b){var a;a:{for(a=b.target;a&&a!=document.documentElement;a=a.parentElement)if(\"A\"==a.tagName){a=\"1\"==a.getAttribute(\"data-nohref\");break a}a=!1}a&&b.preventDefault()},!0);}).call(this);\\nvar a=window.location,b=a.href.indexOf(\"#\");if(0<=b){var c=a.href.substring(b+1);/(^|&)q=/.test(c)&&-1==c.indexOf(\"#\")&&a.replace(\"/search?\"+c.replace(/(^|&)fp=[^&]*/g,\"\")+\"&cad=h\")};</script><style>#gbar,#guser{font-size:13px;padding-top:1px !important;}#gbar{height:22px}#guser{padding-bottom:7px !important;text-align:right}.gbh,.gbd{border-top:1px solid #c9d7f1;font-size:1px}.gbh{height:0;position:absolute;top:24px;width:100%}@media all{.gb1{height:22px;margin-right:.5em;vertical-align:top}#gbar{float:left}}a.gb1,a.gb4{text-decoration:underline !important}a.gb1,a.gb4{color:#00c !important}.gbi .gb4{color:#dd8e27 !important}.gbf .gb4{color:#900 !important}\\n</style><style>body,td,a,p,.h{font-family:arial,sans-serif}body{margin:0;overflow-y:scroll}#gog{padding:3px 8px 0}td{line-height:.8em}.gac_m td{line-height:17px}form{margin-bottom:20px}.h{color:#1558d6}em{font-weight:bold;font-style:normal}.lst{height:25px;width:496px}.gsfi,.lst{font:18px arial,sans-serif}.gsfs{font:17px arial,sans-serif}.ds{display:inline-box;display:inline-block;margin:3px 0 4px;margin-left:4px}input{font-family:inherit}body{background:#fff;color:#000}a{color:#4b11a8;text-decoration:none}a:hover,a:active{text-decoration:underline}.fl a{color:#1558d6}a:visited{color:#4b11a8}.sblc{padding-top:5px}.sblc a{display:block;margin:2px 0;margin-left:13px;font-size:11px}.lsbb{background:#f8f9fa;border:solid 1px;border-color:#dadce0 #70757a #70757a #dadce0;height:30px}.lsbb{display:block}#WqQANb a{display:inline-block;margin:0 12px}.lsb{background:url(/images/nav_logo229.png) 0 -261px repeat-x;border:none;color:#000;cursor:pointer;height:30px;margin:0;outline:0;font:15px arial,sans-serif;vertical-align:top}.lsb:active{background:#dadce0}.lst:focus{outline:none}</style><script nonce=\"6gWAh+Fbg/C4wwkukWKMEQ==\"></script></head><body bgcolor=\"#fff\"><script nonce=\"6gWAh+Fbg/C4wwkukWKMEQ==\">(function(){var src=\\'/images/nav_logo229.png\\';var iesg=false;document.body.onload = function(){window.n && window.n();if (document.images){new Image().src=src;}\\nif (!iesg){document.f&&document.f.q.focus();document.gbqf&&document.gbqf.q.focus();}\\n}\\n})();</script><div id=\"mngb\"><div id=gbar><nobr><b class=gb1>Search</b> <a class=gb1 href=\"https://www.google.co.in/imghp?hl=en&tab=wi\">Images</a> <a class=gb1 href=\"https://maps.google.co.in/maps?hl=en&tab=wl\">Maps</a> <a class=gb1 href=\"https://play.google.com/?hl=en&tab=w8\">Play</a> <a class=gb1 href=\"https://www.youtube.com/?gl=IN&tab=w1\">YouTube</a> <a class=gb1 href=\"https://news.google.com/?tab=wn\">News</a> <a class=gb1 href=\"https://mail.google.com/mail/?tab=wm\">Gmail</a> <a class=gb1 href=\"https://drive.google.com/?tab=wo\">Drive</a> <a class=gb1 style=\"text-decoration:none\" href=\"https://www.google.co.in/intl/en/about/products?tab=wh\"><u>More</u> &raquo;</a></nobr></div><div id=guser width=100%><nobr><span id=gbn class=gbi></span><span id=gbf class=gbf></span><span id=gbe></span><a href=\"http://www.google.co.in/history/optout?hl=en\" class=gb4>Web History</a> | <a  href=\"/preferences?hl=en\" class=gb4>Settings</a> | <a target=_top id=gb_70 href=\"https://accounts.google.com/ServiceLogin?hl=en&passive=true&continue=https://www.google.co.in/&ec=GAZAAQ\" class=gb4>Sign in</a></nobr></div><div class=gbh style=left:0></div><div class=gbh style=right:0></div></div><center><br clear=\"all\" id=\"lgpd\"><div id=\"lga\"><img alt=\"Google\" height=\"92\" src=\"/images/branding/googlelogo/1x/googlelogo_white_background_color_272x92dp.png\" style=\"padding:28px 0 14px\" width=\"272\" id=\"hplogo\"><br><br></div><form action=\"/search\" name=\"f\"><table cellpadding=\"0\" cellspacing=\"0\"><tr valign=\"top\"><td width=\"25%\">&nbsp;</td><td align=\"center\" nowrap=\"\"><input name=\"ie\" value=\"ISO-8859-1\" type=\"hidden\"><input value=\"en-IN\" name=\"hl\" type=\"hidden\"><input name=\"source\" type=\"hidden\" value=\"hp\"><input name=\"biw\" type=\"hidden\"><input name=\"bih\" type=\"hidden\"><div class=\"ds\" style=\"height:32px;margin:4px 0\"><input class=\"lst\" style=\"margin:0;padding:5px 8px 0 6px;vertical-align:top;color:#000\" autocomplete=\"off\" value=\"\" title=\"Google Search\" maxlength=\"2048\" name=\"q\" size=\"57\"></div><br style=\"line-height:0\"><span class=\"ds\"><span class=\"lsbb\"><input class=\"lsb\" value=\"Google Search\" name=\"btnG\" type=\"submit\"></span></span><span class=\"ds\"><span class=\"lsbb\"><input class=\"lsb\" id=\"tsuid1\" value=\"I\\'m Feeling Lucky\" name=\"btnI\" type=\"submit\"><script nonce=\"6gWAh+Fbg/C4wwkukWKMEQ==\">(function(){var id=\\'tsuid1\\';document.getElementById(id).onclick = function(){if (this.form.q.value){this.checked = 1;if (this.form.iflsig)this.form.iflsig.disabled = false;}\\nelse top.location=\\'/doodles/\\';};})();</script><input value=\"AINFCbYAAAAAX7yDudTSdfxmrxV2D9UWLNAxt6zKti8X\" name=\"iflsig\" type=\"hidden\"></span></span></td><td class=\"fl sblc\" align=\"left\" nowrap=\"\" width=\"25%\"><a href=\"/advanced_search?hl=en-IN&amp;authuser=0\">Advanced search</a></td></tr></table><input id=\"gbv\" name=\"gbv\" type=\"hidden\" value=\"1\"><script nonce=\"6gWAh+Fbg/C4wwkukWKMEQ==\">(function(){var a,b=\"1\";if(document&&document.getElementById)if(\"undefined\"!=typeof XMLHttpRequest)b=\"2\";else if(\"undefined\"!=typeof ActiveXObject){var c,d,e=[\"MSXML2.XMLHTTP.6.0\",\"MSXML2.XMLHTTP.3.0\",\"MSXML2.XMLHTTP\",\"Microsoft.XMLHTTP\"];for(c=0;d=e[c++];)try{new ActiveXObject(d),b=\"2\"}catch(h){}}a=b;if(\"2\"==a&&-1==location.search.indexOf(\"&gbv=2\")){var f=google.gbvu,g=document.getElementById(\"gbv\");g&&(g.value=a);f&&window.setTimeout(function(){location.href=f},0)};}).call(this);</script></form><div id=\"gac_scont\"></div><div style=\"font-size:83%;min-height:3.5em\"><br><div id=\"gws-output-pages-elements-homepage_additional_languages__als\"><style>#gws-output-pages-elements-homepage_additional_languages__als{font-size:small;margin-bottom:24px}#SIvCob{display:inline-block;line-height:28px;}#SIvCob a{padding:0 3px;}.H6sW5{display:inline-block;margin:0 2px;white-space:nowrap}.z4hgWe{display:inline-block;margin:0 2px}</style><div id=\"SIvCob\">Google offered in:  <a href=\"https://www.google.co.in/setprefs?sig=0_sb4KUu5AaNTvNrebmAVtjfehGl4%3D&amp;hl=hi&amp;source=homepage&amp;sa=X&amp;ved=0ahUKEwi3vI_TlprtAhWBguYKHVyCCdgQ2ZgBCAU\">&#2361;&#2367;&#2344;&#2381;&#2342;&#2368;</a>    <a href=\"https://www.google.co.in/setprefs?sig=0_sb4KUu5AaNTvNrebmAVtjfehGl4%3D&amp;hl=bn&amp;source=homepage&amp;sa=X&amp;ved=0ahUKEwi3vI_TlprtAhWBguYKHVyCCdgQ2ZgBCAY\">&#2476;&#2494;&#2434;&#2482;&#2494;</a>    <a href=\"https://www.google.co.in/setprefs?sig=0_sb4KUu5AaNTvNrebmAVtjfehGl4%3D&amp;hl=te&amp;source=homepage&amp;sa=X&amp;ved=0ahUKEwi3vI_TlprtAhWBguYKHVyCCdgQ2ZgBCAc\">&#3108;&#3142;&#3122;&#3137;&#3095;&#3137;</a>    <a href=\"https://www.google.co.in/setprefs?sig=0_sb4KUu5AaNTvNrebmAVtjfehGl4%3D&amp;hl=mr&amp;source=homepage&amp;sa=X&amp;ved=0ahUKEwi3vI_TlprtAhWBguYKHVyCCdgQ2ZgBCAg\">&#2350;&#2352;&#2366;&#2336;&#2368;</a>    <a href=\"https://www.google.co.in/setprefs?sig=0_sb4KUu5AaNTvNrebmAVtjfehGl4%3D&amp;hl=ta&amp;source=homepage&amp;sa=X&amp;ved=0ahUKEwi3vI_TlprtAhWBguYKHVyCCdgQ2ZgBCAk\">&#2980;&#2990;&#3007;&#2996;&#3021;</a>    <a href=\"https://www.google.co.in/setprefs?sig=0_sb4KUu5AaNTvNrebmAVtjfehGl4%3D&amp;hl=gu&amp;source=homepage&amp;sa=X&amp;ved=0ahUKEwi3vI_TlprtAhWBguYKHVyCCdgQ2ZgBCAo\">&#2711;&#2753;&#2716;&#2736;&#2750;&#2724;&#2752;</a>    <a href=\"https://www.google.co.in/setprefs?sig=0_sb4KUu5AaNTvNrebmAVtjfehGl4%3D&amp;hl=kn&amp;source=homepage&amp;sa=X&amp;ved=0ahUKEwi3vI_TlprtAhWBguYKHVyCCdgQ2ZgBCAs\">&#3221;&#3240;&#3277;&#3240;&#3233;</a>    <a href=\"https://www.google.co.in/setprefs?sig=0_sb4KUu5AaNTvNrebmAVtjfehGl4%3D&amp;hl=ml&amp;source=homepage&amp;sa=X&amp;ved=0ahUKEwi3vI_TlprtAhWBguYKHVyCCdgQ2ZgBCAw\">&#3374;&#3378;&#3375;&#3390;&#3379;&#3330;</a>    <a href=\"https://www.google.co.in/setprefs?sig=0_sb4KUu5AaNTvNrebmAVtjfehGl4%3D&amp;hl=pa&amp;source=homepage&amp;sa=X&amp;ved=0ahUKEwi3vI_TlprtAhWBguYKHVyCCdgQ2ZgBCA0\">&#2602;&#2672;&#2588;&#2622;&#2604;&#2624;</a>  </div></div></div><span id=\"footer\"><div style=\"font-size:10pt\"><div style=\"margin:19px auto;text-align:center\" id=\"WqQANb\"><a href=\"/intl/en/ads/\">Advertising\\xa0Programs</a><a href=\"http://www.google.co.in/services/\">Business Solutions</a><a href=\"/intl/en/about.html\">About Google</a><a href=\"https://www.google.co.in/setprefdomain?prefdom=US&amp;sig=K_DjwGilIghSruCEQXxLvK0PVKGeg%3D\" id=\"fehl\">Google.com</a></div></div><p style=\"font-size:8pt;color:#70757a\">&copy; 2020 - <a href=\"/intl/en/policies/privacy/\">Privacy</a> - <a href=\"/intl/en/policies/terms/\">Terms</a></p></span></center><script nonce=\"6gWAh+Fbg/C4wwkukWKMEQ==\">(function(){window.google.cdo={height:0,width:0};(function(){var a=window.innerWidth,b=window.innerHeight;if(!a||!b){var c=window.document,d=\"CSS1Compat\"==c.compatMode?c.documentElement:c.body;a=d.clientWidth;b=d.clientHeight}a&&b&&(a!=google.cdo.width||b!=google.cdo.height)&&google.log(\"\",\"\",\"/client_204?&atyp=i&biw=\"+a+\"&bih=\"+b+\"&ei=\"+google.kEI);}).call(this);})();(function(){var u=\\'/xjs/_/js/k\\\\x3dxjs.hp.en.Ft9Vk8URjyE.O/m\\\\x3dsb_he,d/am\\\\x3dADxBHA/d\\\\x3d1/rs\\\\x3dACT90oEuqk9hJKYpUxAZ61yYY8L9a4-PzA\\';\\nvar c=this||self,e=/^[\\\\w+/_-]+[=]{0,2}$/,f=null,g=function(a){return(a=a.querySelector&&a.querySelector(\"script[nonce]\"))&&(a=a.nonce||a.getAttribute(\"nonce\"))&&e.test(a)?a:\"\"},h=function(a){return a};var l;var n=function(a,b){this.a=b===m?a:\"\"},m={};setTimeout(function(){var a=document;var b=\"SCRIPT\";\"application/xhtml+xml\"===a.contentType&&(b=b.toLowerCase());b=a.createElement(b);a=u;if(void 0===l){var d=null;var k=c.trustedTypes;if(k&&k.createPolicy){try{d=k.createPolicy(\"goog#html\",{createHTML:h,createScript:h,createScriptURL:h})}catch(p){c.console&&c.console.error(p.message)}l=d}else l=d}a=(d=l)?d.createScriptURL(a):a;a=new n(a,m);b.src=a instanceof n&&a.constructor===n?a.a:\"type_error:TrustedResourceUrl\";(a=b.ownerDocument&&b.ownerDocument.defaultView)&&\\na!=c?a=g(a.document):(null===f&&(f=g(c.document)),a=f);a&&b.setAttribute(\"nonce\",a);google.timers&&google.timers.load&&google.tick&&google.tick(\"load\",\"xjsls\");document.body.appendChild(b)},0);})();(function(){window.google.xjsu=\\'/xjs/_/js/k\\\\x3dxjs.hp.en.Ft9Vk8URjyE.O/m\\\\x3dsb_he,d/am\\\\x3dADxBHA/d\\\\x3d1/rs\\\\x3dACT90oEuqk9hJKYpUxAZ61yYY8L9a4-PzA\\';})();function _DumpException(e){throw e;}\\nfunction _F_installCss(c){}\\n(function(){google.jl={dw:false,em:[],emw:false,lls:\\'default\\',pdt:0,snet:true,uwp:true};})();(function(){var pmc=\\'{\\\\x22d\\\\x22:{},\\\\x22sb_he\\\\x22:{\\\\x22agen\\\\x22:true,\\\\x22cgen\\\\x22:true,\\\\x22client\\\\x22:\\\\x22heirloom-hp\\\\x22,\\\\x22dh\\\\x22:true,\\\\x22dhqt\\\\x22:true,\\\\x22ds\\\\x22:\\\\x22\\\\x22,\\\\x22ffql\\\\x22:\\\\x22en\\\\x22,\\\\x22fl\\\\x22:true,\\\\x22host\\\\x22:\\\\x22google.co.in\\\\x22,\\\\x22isbh\\\\x22:28,\\\\x22jsonp\\\\x22:true,\\\\x22msgs\\\\x22:{\\\\x22cibl\\\\x22:\\\\x22Clear Search\\\\x22,\\\\x22dym\\\\x22:\\\\x22Did you mean:\\\\x22,\\\\x22lcky\\\\x22:\\\\x22I\\\\\\\\u0026#39;m Feeling Lucky\\\\x22,\\\\x22lml\\\\x22:\\\\x22Learn more\\\\x22,\\\\x22oskt\\\\x22:\\\\x22Input tools\\\\x22,\\\\x22psrc\\\\x22:\\\\x22This search was removed from your \\\\\\\\u003Ca href\\\\x3d\\\\\\\\\\\\x22/history\\\\\\\\\\\\x22\\\\\\\\u003EWeb History\\\\\\\\u003C/a\\\\\\\\u003E\\\\x22,\\\\x22psrl\\\\x22:\\\\x22Remove\\\\x22,\\\\x22sbit\\\\x22:\\\\x22Search by image\\\\x22,\\\\x22srch\\\\x22:\\\\x22Google Search\\\\x22},\\\\x22nrft\\\\x22:false,\\\\x22ovr\\\\x22:{},\\\\x22pq\\\\x22:\\\\x22\\\\x22,\\\\x22refpd\\\\x22:true,\\\\x22rfs\\\\x22:[],\\\\x22sbas\\\\x22:\\\\x220 3px 8px 0 rgba(0,0,0,0.2),0 0 0 1px rgba(0,0,0,0.08)\\\\x22,\\\\x22sbpl\\\\x22:16,\\\\x22sbpr\\\\x22:16,\\\\x22scd\\\\x22:10,\\\\x22stok\\\\x22:\\\\x22hGyM-h2NThdFgREnWDZ7zOYVa00\\\\x22,\\\\x22uhde\\\\x22:false}}\\';google.pmc=JSON.parse(pmc);})();</script>        </body></html>'"
      ]
     },
     "execution_count": 4,
     "metadata": {},
     "output_type": "execute_result"
    }
   ],
   "source": [
    "res.text"
   ]
  },
  {
   "cell_type": "code",
   "execution_count": 11,
   "metadata": {},
   "outputs": [],
   "source": [
    "soup=bs4.BeautifulSoup(res.text,'lxml')"
   ]
  },
  {
   "cell_type": "code",
   "execution_count": 6,
   "metadata": {},
   "outputs": [
    {
     "data": {
      "text/plain": [
       "bs4.BeautifulSoup"
      ]
     },
     "execution_count": 6,
     "metadata": {},
     "output_type": "execute_result"
    }
   ],
   "source": [
    "type(soup)"
   ]
  },
  {
   "cell_type": "code",
   "execution_count": 7,
   "metadata": {},
   "outputs": [],
   "source": [
    "n1=soup.select('title')"
   ]
  },
  {
   "cell_type": "code",
   "execution_count": 8,
   "metadata": {},
   "outputs": [
    {
     "name": "stdout",
     "output_type": "stream",
     "text": [
      "[<title>Google</title>]\n"
     ]
    }
   ],
   "source": [
    "print(n1)"
   ]
  },
  {
   "cell_type": "code",
   "execution_count": 9,
   "metadata": {},
   "outputs": [
    {
     "data": {
      "text/plain": [
       "'Google'"
      ]
     },
     "execution_count": 9,
     "metadata": {},
     "output_type": "execute_result"
    }
   ],
   "source": [
    "n1[0].getText()"
   ]
  },
  {
   "cell_type": "code",
   "execution_count": 12,
   "metadata": {},
   "outputs": [
    {
     "data": {
      "text/plain": [
       "[<div id=\"mngb\"><div id=\"gbar\"><nobr><b class=\"gb1\">Search</b> <a class=\"gb1\" href=\"https://www.google.co.in/imghp?hl=en&amp;tab=wi\">Images</a> <a class=\"gb1\" href=\"https://maps.google.co.in/maps?hl=en&amp;tab=wl\">Maps</a> <a class=\"gb1\" href=\"https://play.google.com/?hl=en&amp;tab=w8\">Play</a> <a class=\"gb1\" href=\"https://www.youtube.com/?gl=IN&amp;tab=w1\">YouTube</a> <a class=\"gb1\" href=\"https://news.google.com/?tab=wn\">News</a> <a class=\"gb1\" href=\"https://mail.google.com/mail/?tab=wm\">Gmail</a> <a class=\"gb1\" href=\"https://drive.google.com/?tab=wo\">Drive</a> <a class=\"gb1\" href=\"https://www.google.co.in/intl/en/about/products?tab=wh\" style=\"text-decoration:none\"><u>More</u> »</a></nobr></div><div id=\"guser\" width=\"100%\"><nobr><span class=\"gbi\" id=\"gbn\"></span><span class=\"gbf\" id=\"gbf\"></span><span id=\"gbe\"></span><a class=\"gb4\" href=\"http://www.google.co.in/history/optout?hl=en\">Web History</a> | <a class=\"gb4\" href=\"/preferences?hl=en\">Settings</a> | <a class=\"gb4\" href=\"https://accounts.google.com/ServiceLogin?hl=en&amp;passive=true&amp;continue=https://www.google.co.in/&amp;ec=GAZAAQ\" id=\"gb_70\" target=\"_top\">Sign in</a></nobr></div><div class=\"gbh\" style=\"left:0\"></div><div class=\"gbh\" style=\"right:0\"></div></div>,\n",
       " <div id=\"gbar\"><nobr><b class=\"gb1\">Search</b> <a class=\"gb1\" href=\"https://www.google.co.in/imghp?hl=en&amp;tab=wi\">Images</a> <a class=\"gb1\" href=\"https://maps.google.co.in/maps?hl=en&amp;tab=wl\">Maps</a> <a class=\"gb1\" href=\"https://play.google.com/?hl=en&amp;tab=w8\">Play</a> <a class=\"gb1\" href=\"https://www.youtube.com/?gl=IN&amp;tab=w1\">YouTube</a> <a class=\"gb1\" href=\"https://news.google.com/?tab=wn\">News</a> <a class=\"gb1\" href=\"https://mail.google.com/mail/?tab=wm\">Gmail</a> <a class=\"gb1\" href=\"https://drive.google.com/?tab=wo\">Drive</a> <a class=\"gb1\" href=\"https://www.google.co.in/intl/en/about/products?tab=wh\" style=\"text-decoration:none\"><u>More</u> »</a></nobr></div>,\n",
       " <div id=\"guser\" width=\"100%\"><nobr><span class=\"gbi\" id=\"gbn\"></span><span class=\"gbf\" id=\"gbf\"></span><span id=\"gbe\"></span><a class=\"gb4\" href=\"http://www.google.co.in/history/optout?hl=en\">Web History</a> | <a class=\"gb4\" href=\"/preferences?hl=en\">Settings</a> | <a class=\"gb4\" href=\"https://accounts.google.com/ServiceLogin?hl=en&amp;passive=true&amp;continue=https://www.google.co.in/&amp;ec=GAZAAQ\" id=\"gb_70\" target=\"_top\">Sign in</a></nobr></div>,\n",
       " <div class=\"gbh\" style=\"left:0\"></div>,\n",
       " <div class=\"gbh\" style=\"right:0\"></div>,\n",
       " <div id=\"lga\"><img alt=\"Google\" height=\"92\" id=\"hplogo\" src=\"/images/branding/googlelogo/1x/googlelogo_white_background_color_272x92dp.png\" style=\"padding:28px 0 14px\" width=\"272\"/><br/><br/></div>,\n",
       " <div class=\"ds\" style=\"height:32px;margin:4px 0\"><input autocomplete=\"off\" class=\"lst\" maxlength=\"2048\" name=\"q\" size=\"57\" style=\"margin:0;padding:5px 8px 0 6px;vertical-align:top;color:#000\" title=\"Google Search\" value=\"\"/></div>,\n",
       " <div id=\"gac_scont\"></div>,\n",
       " <div style=\"font-size:83%;min-height:3.5em\"><br/><div id=\"gws-output-pages-elements-homepage_additional_languages__als\"><style>#gws-output-pages-elements-homepage_additional_languages__als{font-size:small;margin-bottom:24px}#SIvCob{display:inline-block;line-height:28px;}#SIvCob a{padding:0 3px;}.H6sW5{display:inline-block;margin:0 2px;white-space:nowrap}.z4hgWe{display:inline-block;margin:0 2px}</style><div id=\"SIvCob\">Google offered in:  <a href=\"https://www.google.co.in/setprefs?sig=0_sb4KUu5AaNTvNrebmAVtjfehGl4%3D&amp;hl=hi&amp;source=homepage&amp;sa=X&amp;ved=0ahUKEwi3vI_TlprtAhWBguYKHVyCCdgQ2ZgBCAU\">हिन्दी</a> <a href=\"https://www.google.co.in/setprefs?sig=0_sb4KUu5AaNTvNrebmAVtjfehGl4%3D&amp;hl=bn&amp;source=homepage&amp;sa=X&amp;ved=0ahUKEwi3vI_TlprtAhWBguYKHVyCCdgQ2ZgBCAY\">বাংলা</a> <a href=\"https://www.google.co.in/setprefs?sig=0_sb4KUu5AaNTvNrebmAVtjfehGl4%3D&amp;hl=te&amp;source=homepage&amp;sa=X&amp;ved=0ahUKEwi3vI_TlprtAhWBguYKHVyCCdgQ2ZgBCAc\">తెలుగు</a> <a href=\"https://www.google.co.in/setprefs?sig=0_sb4KUu5AaNTvNrebmAVtjfehGl4%3D&amp;hl=mr&amp;source=homepage&amp;sa=X&amp;ved=0ahUKEwi3vI_TlprtAhWBguYKHVyCCdgQ2ZgBCAg\">मराठी</a> <a href=\"https://www.google.co.in/setprefs?sig=0_sb4KUu5AaNTvNrebmAVtjfehGl4%3D&amp;hl=ta&amp;source=homepage&amp;sa=X&amp;ved=0ahUKEwi3vI_TlprtAhWBguYKHVyCCdgQ2ZgBCAk\">தமிழ்</a> <a href=\"https://www.google.co.in/setprefs?sig=0_sb4KUu5AaNTvNrebmAVtjfehGl4%3D&amp;hl=gu&amp;source=homepage&amp;sa=X&amp;ved=0ahUKEwi3vI_TlprtAhWBguYKHVyCCdgQ2ZgBCAo\">ગુજરાતી</a> <a href=\"https://www.google.co.in/setprefs?sig=0_sb4KUu5AaNTvNrebmAVtjfehGl4%3D&amp;hl=kn&amp;source=homepage&amp;sa=X&amp;ved=0ahUKEwi3vI_TlprtAhWBguYKHVyCCdgQ2ZgBCAs\">ಕನ್ನಡ</a> <a href=\"https://www.google.co.in/setprefs?sig=0_sb4KUu5AaNTvNrebmAVtjfehGl4%3D&amp;hl=ml&amp;source=homepage&amp;sa=X&amp;ved=0ahUKEwi3vI_TlprtAhWBguYKHVyCCdgQ2ZgBCAw\">മലയാളം</a> <a href=\"https://www.google.co.in/setprefs?sig=0_sb4KUu5AaNTvNrebmAVtjfehGl4%3D&amp;hl=pa&amp;source=homepage&amp;sa=X&amp;ved=0ahUKEwi3vI_TlprtAhWBguYKHVyCCdgQ2ZgBCA0\">ਪੰਜਾਬੀ</a> </div></div></div>,\n",
       " <div id=\"gws-output-pages-elements-homepage_additional_languages__als\"><style>#gws-output-pages-elements-homepage_additional_languages__als{font-size:small;margin-bottom:24px}#SIvCob{display:inline-block;line-height:28px;}#SIvCob a{padding:0 3px;}.H6sW5{display:inline-block;margin:0 2px;white-space:nowrap}.z4hgWe{display:inline-block;margin:0 2px}</style><div id=\"SIvCob\">Google offered in:  <a href=\"https://www.google.co.in/setprefs?sig=0_sb4KUu5AaNTvNrebmAVtjfehGl4%3D&amp;hl=hi&amp;source=homepage&amp;sa=X&amp;ved=0ahUKEwi3vI_TlprtAhWBguYKHVyCCdgQ2ZgBCAU\">हिन्दी</a> <a href=\"https://www.google.co.in/setprefs?sig=0_sb4KUu5AaNTvNrebmAVtjfehGl4%3D&amp;hl=bn&amp;source=homepage&amp;sa=X&amp;ved=0ahUKEwi3vI_TlprtAhWBguYKHVyCCdgQ2ZgBCAY\">বাংলা</a> <a href=\"https://www.google.co.in/setprefs?sig=0_sb4KUu5AaNTvNrebmAVtjfehGl4%3D&amp;hl=te&amp;source=homepage&amp;sa=X&amp;ved=0ahUKEwi3vI_TlprtAhWBguYKHVyCCdgQ2ZgBCAc\">తెలుగు</a> <a href=\"https://www.google.co.in/setprefs?sig=0_sb4KUu5AaNTvNrebmAVtjfehGl4%3D&amp;hl=mr&amp;source=homepage&amp;sa=X&amp;ved=0ahUKEwi3vI_TlprtAhWBguYKHVyCCdgQ2ZgBCAg\">मराठी</a> <a href=\"https://www.google.co.in/setprefs?sig=0_sb4KUu5AaNTvNrebmAVtjfehGl4%3D&amp;hl=ta&amp;source=homepage&amp;sa=X&amp;ved=0ahUKEwi3vI_TlprtAhWBguYKHVyCCdgQ2ZgBCAk\">தமிழ்</a> <a href=\"https://www.google.co.in/setprefs?sig=0_sb4KUu5AaNTvNrebmAVtjfehGl4%3D&amp;hl=gu&amp;source=homepage&amp;sa=X&amp;ved=0ahUKEwi3vI_TlprtAhWBguYKHVyCCdgQ2ZgBCAo\">ગુજરાતી</a> <a href=\"https://www.google.co.in/setprefs?sig=0_sb4KUu5AaNTvNrebmAVtjfehGl4%3D&amp;hl=kn&amp;source=homepage&amp;sa=X&amp;ved=0ahUKEwi3vI_TlprtAhWBguYKHVyCCdgQ2ZgBCAs\">ಕನ್ನಡ</a> <a href=\"https://www.google.co.in/setprefs?sig=0_sb4KUu5AaNTvNrebmAVtjfehGl4%3D&amp;hl=ml&amp;source=homepage&amp;sa=X&amp;ved=0ahUKEwi3vI_TlprtAhWBguYKHVyCCdgQ2ZgBCAw\">മലയാളം</a> <a href=\"https://www.google.co.in/setprefs?sig=0_sb4KUu5AaNTvNrebmAVtjfehGl4%3D&amp;hl=pa&amp;source=homepage&amp;sa=X&amp;ved=0ahUKEwi3vI_TlprtAhWBguYKHVyCCdgQ2ZgBCA0\">ਪੰਜਾਬੀ</a> </div></div>,\n",
       " <div id=\"SIvCob\">Google offered in:  <a href=\"https://www.google.co.in/setprefs?sig=0_sb4KUu5AaNTvNrebmAVtjfehGl4%3D&amp;hl=hi&amp;source=homepage&amp;sa=X&amp;ved=0ahUKEwi3vI_TlprtAhWBguYKHVyCCdgQ2ZgBCAU\">हिन्दी</a> <a href=\"https://www.google.co.in/setprefs?sig=0_sb4KUu5AaNTvNrebmAVtjfehGl4%3D&amp;hl=bn&amp;source=homepage&amp;sa=X&amp;ved=0ahUKEwi3vI_TlprtAhWBguYKHVyCCdgQ2ZgBCAY\">বাংলা</a> <a href=\"https://www.google.co.in/setprefs?sig=0_sb4KUu5AaNTvNrebmAVtjfehGl4%3D&amp;hl=te&amp;source=homepage&amp;sa=X&amp;ved=0ahUKEwi3vI_TlprtAhWBguYKHVyCCdgQ2ZgBCAc\">తెలుగు</a> <a href=\"https://www.google.co.in/setprefs?sig=0_sb4KUu5AaNTvNrebmAVtjfehGl4%3D&amp;hl=mr&amp;source=homepage&amp;sa=X&amp;ved=0ahUKEwi3vI_TlprtAhWBguYKHVyCCdgQ2ZgBCAg\">मराठी</a> <a href=\"https://www.google.co.in/setprefs?sig=0_sb4KUu5AaNTvNrebmAVtjfehGl4%3D&amp;hl=ta&amp;source=homepage&amp;sa=X&amp;ved=0ahUKEwi3vI_TlprtAhWBguYKHVyCCdgQ2ZgBCAk\">தமிழ்</a> <a href=\"https://www.google.co.in/setprefs?sig=0_sb4KUu5AaNTvNrebmAVtjfehGl4%3D&amp;hl=gu&amp;source=homepage&amp;sa=X&amp;ved=0ahUKEwi3vI_TlprtAhWBguYKHVyCCdgQ2ZgBCAo\">ગુજરાતી</a> <a href=\"https://www.google.co.in/setprefs?sig=0_sb4KUu5AaNTvNrebmAVtjfehGl4%3D&amp;hl=kn&amp;source=homepage&amp;sa=X&amp;ved=0ahUKEwi3vI_TlprtAhWBguYKHVyCCdgQ2ZgBCAs\">ಕನ್ನಡ</a> <a href=\"https://www.google.co.in/setprefs?sig=0_sb4KUu5AaNTvNrebmAVtjfehGl4%3D&amp;hl=ml&amp;source=homepage&amp;sa=X&amp;ved=0ahUKEwi3vI_TlprtAhWBguYKHVyCCdgQ2ZgBCAw\">മലയാളം</a> <a href=\"https://www.google.co.in/setprefs?sig=0_sb4KUu5AaNTvNrebmAVtjfehGl4%3D&amp;hl=pa&amp;source=homepage&amp;sa=X&amp;ved=0ahUKEwi3vI_TlprtAhWBguYKHVyCCdgQ2ZgBCA0\">ਪੰਜਾਬੀ</a> </div>,\n",
       " <div style=\"font-size:10pt\"><div id=\"WqQANb\" style=\"margin:19px auto;text-align:center\"><a href=\"/intl/en/ads/\">Advertising Programs</a><a href=\"http://www.google.co.in/services/\">Business Solutions</a><a href=\"/intl/en/about.html\">About Google</a><a href=\"https://www.google.co.in/setprefdomain?prefdom=US&amp;sig=K_DjwGilIghSruCEQXxLvK0PVKGeg%3D\" id=\"fehl\">Google.com</a></div></div>,\n",
       " <div id=\"WqQANb\" style=\"margin:19px auto;text-align:center\"><a href=\"/intl/en/ads/\">Advertising Programs</a><a href=\"http://www.google.co.in/services/\">Business Solutions</a><a href=\"/intl/en/about.html\">About Google</a><a href=\"https://www.google.co.in/setprefdomain?prefdom=US&amp;sig=K_DjwGilIghSruCEQXxLvK0PVKGeg%3D\" id=\"fehl\">Google.com</a></div>]"
      ]
     },
     "execution_count": 12,
     "metadata": {},
     "output_type": "execute_result"
    }
   ],
   "source": [
    "soup.select('div')"
   ]
  },
  {
   "cell_type": "code",
   "execution_count": 13,
   "metadata": {},
   "outputs": [
    {
     "name": "stdout",
     "output_type": "stream",
     "text": [
      "Search Images Maps Play YouTube News Gmail Drive More »Web History | Settings | Sign in\n",
      "Search Images Maps Play YouTube News Gmail Drive More »\n",
      "Web History | Settings | Sign in\n",
      "\n",
      "\n",
      "\n",
      "\n",
      "\n",
      "Google offered in:  हिन्दी বাংলা తెలుగు मराठी தமிழ் ગુજરાતી ಕನ್ನಡ മലയാളം ਪੰਜਾਬੀ \n",
      "Google offered in:  हिन्दी বাংলা తెలుగు मराठी தமிழ் ગુજરાતી ಕನ್ನಡ മലയാളം ਪੰਜਾਬੀ \n",
      "Google offered in:  हिन्दी বাংলা తెలుగు मराठी தமிழ் ગુજરાતી ಕನ್ನಡ മലയാളം ਪੰਜਾਬੀ \n",
      "Advertising ProgramsBusiness SolutionsAbout GoogleGoogle.com\n",
      "Advertising ProgramsBusiness SolutionsAbout GoogleGoogle.com\n"
     ]
    }
   ],
   "source": [
    "for i in soup.select('div'):\n",
    "    print(i.text)\n"
   ]
  },
  {
   "cell_type": "code",
   "execution_count": 14,
   "metadata": {},
   "outputs": [
    {
     "name": "stdout",
     "output_type": "stream",
     "text": [
      "https://www.google.co.in/imghp?hl=en&tab=wi\n",
      "https://maps.google.co.in/maps?hl=en&tab=wl\n",
      "https://play.google.com/?hl=en&tab=w8\n",
      "https://www.youtube.com/?gl=IN&tab=w1\n",
      "https://news.google.com/?tab=wn\n",
      "https://mail.google.com/mail/?tab=wm\n",
      "https://drive.google.com/?tab=wo\n",
      "https://www.google.co.in/intl/en/about/products?tab=wh\n",
      "http://www.google.co.in/history/optout?hl=en\n",
      "/preferences?hl=en\n",
      "https://accounts.google.com/ServiceLogin?hl=en&passive=true&continue=https://www.google.co.in/&ec=GAZAAQ\n",
      "/advanced_search?hl=en-IN&authuser=0\n",
      "https://www.google.co.in/setprefs?sig=0_sb4KUu5AaNTvNrebmAVtjfehGl4%3D&hl=hi&source=homepage&sa=X&ved=0ahUKEwi3vI_TlprtAhWBguYKHVyCCdgQ2ZgBCAU\n",
      "https://www.google.co.in/setprefs?sig=0_sb4KUu5AaNTvNrebmAVtjfehGl4%3D&hl=bn&source=homepage&sa=X&ved=0ahUKEwi3vI_TlprtAhWBguYKHVyCCdgQ2ZgBCAY\n",
      "https://www.google.co.in/setprefs?sig=0_sb4KUu5AaNTvNrebmAVtjfehGl4%3D&hl=te&source=homepage&sa=X&ved=0ahUKEwi3vI_TlprtAhWBguYKHVyCCdgQ2ZgBCAc\n",
      "https://www.google.co.in/setprefs?sig=0_sb4KUu5AaNTvNrebmAVtjfehGl4%3D&hl=mr&source=homepage&sa=X&ved=0ahUKEwi3vI_TlprtAhWBguYKHVyCCdgQ2ZgBCAg\n",
      "https://www.google.co.in/setprefs?sig=0_sb4KUu5AaNTvNrebmAVtjfehGl4%3D&hl=ta&source=homepage&sa=X&ved=0ahUKEwi3vI_TlprtAhWBguYKHVyCCdgQ2ZgBCAk\n",
      "https://www.google.co.in/setprefs?sig=0_sb4KUu5AaNTvNrebmAVtjfehGl4%3D&hl=gu&source=homepage&sa=X&ved=0ahUKEwi3vI_TlprtAhWBguYKHVyCCdgQ2ZgBCAo\n",
      "https://www.google.co.in/setprefs?sig=0_sb4KUu5AaNTvNrebmAVtjfehGl4%3D&hl=kn&source=homepage&sa=X&ved=0ahUKEwi3vI_TlprtAhWBguYKHVyCCdgQ2ZgBCAs\n",
      "https://www.google.co.in/setprefs?sig=0_sb4KUu5AaNTvNrebmAVtjfehGl4%3D&hl=ml&source=homepage&sa=X&ved=0ahUKEwi3vI_TlprtAhWBguYKHVyCCdgQ2ZgBCAw\n",
      "https://www.google.co.in/setprefs?sig=0_sb4KUu5AaNTvNrebmAVtjfehGl4%3D&hl=pa&source=homepage&sa=X&ved=0ahUKEwi3vI_TlprtAhWBguYKHVyCCdgQ2ZgBCA0\n",
      "/intl/en/ads/\n",
      "http://www.google.co.in/services/\n",
      "/intl/en/about.html\n",
      "https://www.google.co.in/setprefdomain?prefdom=US&sig=K_DjwGilIghSruCEQXxLvK0PVKGeg%3D\n",
      "/intl/en/policies/privacy/\n",
      "/intl/en/policies/terms/\n"
     ]
    }
   ],
   "source": [
    "for link in soup.find_all('a', href=True):\n",
    "    print(link['href'])"
   ]
  },
  {
   "cell_type": "code",
   "execution_count": 15,
   "metadata": {},
   "outputs": [
    {
     "data": {
      "text/plain": [
       "[<body bgcolor=\"#fff\"><script nonce=\"6gWAh+Fbg/C4wwkukWKMEQ==\">(function(){var src='/images/nav_logo229.png';var iesg=false;document.body.onload = function(){window.n && window.n();if (document.images){new Image().src=src;}\n",
       " if (!iesg){document.f&&document.f.q.focus();document.gbqf&&document.gbqf.q.focus();}\n",
       " }\n",
       " })();</script><div id=\"mngb\"><div id=\"gbar\"><nobr><b class=\"gb1\">Search</b> <a class=\"gb1\" href=\"https://www.google.co.in/imghp?hl=en&amp;tab=wi\">Images</a> <a class=\"gb1\" href=\"https://maps.google.co.in/maps?hl=en&amp;tab=wl\">Maps</a> <a class=\"gb1\" href=\"https://play.google.com/?hl=en&amp;tab=w8\">Play</a> <a class=\"gb1\" href=\"https://www.youtube.com/?gl=IN&amp;tab=w1\">YouTube</a> <a class=\"gb1\" href=\"https://news.google.com/?tab=wn\">News</a> <a class=\"gb1\" href=\"https://mail.google.com/mail/?tab=wm\">Gmail</a> <a class=\"gb1\" href=\"https://drive.google.com/?tab=wo\">Drive</a> <a class=\"gb1\" href=\"https://www.google.co.in/intl/en/about/products?tab=wh\" style=\"text-decoration:none\"><u>More</u> »</a></nobr></div><div id=\"guser\" width=\"100%\"><nobr><span class=\"gbi\" id=\"gbn\"></span><span class=\"gbf\" id=\"gbf\"></span><span id=\"gbe\"></span><a class=\"gb4\" href=\"http://www.google.co.in/history/optout?hl=en\">Web History</a> | <a class=\"gb4\" href=\"/preferences?hl=en\">Settings</a> | <a class=\"gb4\" href=\"https://accounts.google.com/ServiceLogin?hl=en&amp;passive=true&amp;continue=https://www.google.co.in/&amp;ec=GAZAAQ\" id=\"gb_70\" target=\"_top\">Sign in</a></nobr></div><div class=\"gbh\" style=\"left:0\"></div><div class=\"gbh\" style=\"right:0\"></div></div><center><br clear=\"all\" id=\"lgpd\"/><div id=\"lga\"><img alt=\"Google\" height=\"92\" id=\"hplogo\" src=\"/images/branding/googlelogo/1x/googlelogo_white_background_color_272x92dp.png\" style=\"padding:28px 0 14px\" width=\"272\"/><br/><br/></div><form action=\"/search\" name=\"f\"><table cellpadding=\"0\" cellspacing=\"0\"><tr valign=\"top\"><td width=\"25%\"> </td><td align=\"center\" nowrap=\"\"><input name=\"ie\" type=\"hidden\" value=\"ISO-8859-1\"/><input name=\"hl\" type=\"hidden\" value=\"en-IN\"/><input name=\"source\" type=\"hidden\" value=\"hp\"/><input name=\"biw\" type=\"hidden\"/><input name=\"bih\" type=\"hidden\"/><div class=\"ds\" style=\"height:32px;margin:4px 0\"><input autocomplete=\"off\" class=\"lst\" maxlength=\"2048\" name=\"q\" size=\"57\" style=\"margin:0;padding:5px 8px 0 6px;vertical-align:top;color:#000\" title=\"Google Search\" value=\"\"/></div><br style=\"line-height:0\"/><span class=\"ds\"><span class=\"lsbb\"><input class=\"lsb\" name=\"btnG\" type=\"submit\" value=\"Google Search\"/></span></span><span class=\"ds\"><span class=\"lsbb\"><input class=\"lsb\" id=\"tsuid1\" name=\"btnI\" type=\"submit\" value=\"I'm Feeling Lucky\"/><script nonce=\"6gWAh+Fbg/C4wwkukWKMEQ==\">(function(){var id='tsuid1';document.getElementById(id).onclick = function(){if (this.form.q.value){this.checked = 1;if (this.form.iflsig)this.form.iflsig.disabled = false;}\n",
       " else top.location='/doodles/';};})();</script><input name=\"iflsig\" type=\"hidden\" value=\"AINFCbYAAAAAX7yDudTSdfxmrxV2D9UWLNAxt6zKti8X\"/></span></span></td><td align=\"left\" class=\"fl sblc\" nowrap=\"\" width=\"25%\"><a href=\"/advanced_search?hl=en-IN&amp;authuser=0\">Advanced search</a></td></tr></table><input id=\"gbv\" name=\"gbv\" type=\"hidden\" value=\"1\"/><script nonce=\"6gWAh+Fbg/C4wwkukWKMEQ==\">(function(){var a,b=\"1\";if(document&&document.getElementById)if(\"undefined\"!=typeof XMLHttpRequest)b=\"2\";else if(\"undefined\"!=typeof ActiveXObject){var c,d,e=[\"MSXML2.XMLHTTP.6.0\",\"MSXML2.XMLHTTP.3.0\",\"MSXML2.XMLHTTP\",\"Microsoft.XMLHTTP\"];for(c=0;d=e[c++];)try{new ActiveXObject(d),b=\"2\"}catch(h){}}a=b;if(\"2\"==a&&-1==location.search.indexOf(\"&gbv=2\")){var f=google.gbvu,g=document.getElementById(\"gbv\");g&&(g.value=a);f&&window.setTimeout(function(){location.href=f},0)};}).call(this);</script></form><div id=\"gac_scont\"></div><div style=\"font-size:83%;min-height:3.5em\"><br/><div id=\"gws-output-pages-elements-homepage_additional_languages__als\"><style>#gws-output-pages-elements-homepage_additional_languages__als{font-size:small;margin-bottom:24px}#SIvCob{display:inline-block;line-height:28px;}#SIvCob a{padding:0 3px;}.H6sW5{display:inline-block;margin:0 2px;white-space:nowrap}.z4hgWe{display:inline-block;margin:0 2px}</style><div id=\"SIvCob\">Google offered in:  <a href=\"https://www.google.co.in/setprefs?sig=0_sb4KUu5AaNTvNrebmAVtjfehGl4%3D&amp;hl=hi&amp;source=homepage&amp;sa=X&amp;ved=0ahUKEwi3vI_TlprtAhWBguYKHVyCCdgQ2ZgBCAU\">हिन्दी</a> <a href=\"https://www.google.co.in/setprefs?sig=0_sb4KUu5AaNTvNrebmAVtjfehGl4%3D&amp;hl=bn&amp;source=homepage&amp;sa=X&amp;ved=0ahUKEwi3vI_TlprtAhWBguYKHVyCCdgQ2ZgBCAY\">বাংলা</a> <a href=\"https://www.google.co.in/setprefs?sig=0_sb4KUu5AaNTvNrebmAVtjfehGl4%3D&amp;hl=te&amp;source=homepage&amp;sa=X&amp;ved=0ahUKEwi3vI_TlprtAhWBguYKHVyCCdgQ2ZgBCAc\">తెలుగు</a> <a href=\"https://www.google.co.in/setprefs?sig=0_sb4KUu5AaNTvNrebmAVtjfehGl4%3D&amp;hl=mr&amp;source=homepage&amp;sa=X&amp;ved=0ahUKEwi3vI_TlprtAhWBguYKHVyCCdgQ2ZgBCAg\">मराठी</a> <a href=\"https://www.google.co.in/setprefs?sig=0_sb4KUu5AaNTvNrebmAVtjfehGl4%3D&amp;hl=ta&amp;source=homepage&amp;sa=X&amp;ved=0ahUKEwi3vI_TlprtAhWBguYKHVyCCdgQ2ZgBCAk\">தமிழ்</a> <a href=\"https://www.google.co.in/setprefs?sig=0_sb4KUu5AaNTvNrebmAVtjfehGl4%3D&amp;hl=gu&amp;source=homepage&amp;sa=X&amp;ved=0ahUKEwi3vI_TlprtAhWBguYKHVyCCdgQ2ZgBCAo\">ગુજરાતી</a> <a href=\"https://www.google.co.in/setprefs?sig=0_sb4KUu5AaNTvNrebmAVtjfehGl4%3D&amp;hl=kn&amp;source=homepage&amp;sa=X&amp;ved=0ahUKEwi3vI_TlprtAhWBguYKHVyCCdgQ2ZgBCAs\">ಕನ್ನಡ</a> <a href=\"https://www.google.co.in/setprefs?sig=0_sb4KUu5AaNTvNrebmAVtjfehGl4%3D&amp;hl=ml&amp;source=homepage&amp;sa=X&amp;ved=0ahUKEwi3vI_TlprtAhWBguYKHVyCCdgQ2ZgBCAw\">മലയാളം</a> <a href=\"https://www.google.co.in/setprefs?sig=0_sb4KUu5AaNTvNrebmAVtjfehGl4%3D&amp;hl=pa&amp;source=homepage&amp;sa=X&amp;ved=0ahUKEwi3vI_TlprtAhWBguYKHVyCCdgQ2ZgBCA0\">ਪੰਜਾਬੀ</a> </div></div></div><span id=\"footer\"><div style=\"font-size:10pt\"><div id=\"WqQANb\" style=\"margin:19px auto;text-align:center\"><a href=\"/intl/en/ads/\">Advertising Programs</a><a href=\"http://www.google.co.in/services/\">Business Solutions</a><a href=\"/intl/en/about.html\">About Google</a><a href=\"https://www.google.co.in/setprefdomain?prefdom=US&amp;sig=K_DjwGilIghSruCEQXxLvK0PVKGeg%3D\" id=\"fehl\">Google.com</a></div></div><p style=\"font-size:8pt;color:#70757a\">© 2020 - <a href=\"/intl/en/policies/privacy/\">Privacy</a> - <a href=\"/intl/en/policies/terms/\">Terms</a></p></span></center><script nonce=\"6gWAh+Fbg/C4wwkukWKMEQ==\">(function(){window.google.cdo={height:0,width:0};(function(){var a=window.innerWidth,b=window.innerHeight;if(!a||!b){var c=window.document,d=\"CSS1Compat\"==c.compatMode?c.documentElement:c.body;a=d.clientWidth;b=d.clientHeight}a&&b&&(a!=google.cdo.width||b!=google.cdo.height)&&google.log(\"\",\"\",\"/client_204?&atyp=i&biw=\"+a+\"&bih=\"+b+\"&ei=\"+google.kEI);}).call(this);})();(function(){var u='/xjs/_/js/k\\x3dxjs.hp.en.Ft9Vk8URjyE.O/m\\x3dsb_he,d/am\\x3dADxBHA/d\\x3d1/rs\\x3dACT90oEuqk9hJKYpUxAZ61yYY8L9a4-PzA';\n",
       " var c=this||self,e=/^[\\w+/_-]+[=]{0,2}$/,f=null,g=function(a){return(a=a.querySelector&&a.querySelector(\"script[nonce]\"))&&(a=a.nonce||a.getAttribute(\"nonce\"))&&e.test(a)?a:\"\"},h=function(a){return a};var l;var n=function(a,b){this.a=b===m?a:\"\"},m={};setTimeout(function(){var a=document;var b=\"SCRIPT\";\"application/xhtml+xml\"===a.contentType&&(b=b.toLowerCase());b=a.createElement(b);a=u;if(void 0===l){var d=null;var k=c.trustedTypes;if(k&&k.createPolicy){try{d=k.createPolicy(\"goog#html\",{createHTML:h,createScript:h,createScriptURL:h})}catch(p){c.console&&c.console.error(p.message)}l=d}else l=d}a=(d=l)?d.createScriptURL(a):a;a=new n(a,m);b.src=a instanceof n&&a.constructor===n?a.a:\"type_error:TrustedResourceUrl\";(a=b.ownerDocument&&b.ownerDocument.defaultView)&&\n",
       " a!=c?a=g(a.document):(null===f&&(f=g(c.document)),a=f);a&&b.setAttribute(\"nonce\",a);google.timers&&google.timers.load&&google.tick&&google.tick(\"load\",\"xjsls\");document.body.appendChild(b)},0);})();(function(){window.google.xjsu='/xjs/_/js/k\\x3dxjs.hp.en.Ft9Vk8URjyE.O/m\\x3dsb_he,d/am\\x3dADxBHA/d\\x3d1/rs\\x3dACT90oEuqk9hJKYpUxAZ61yYY8L9a4-PzA';})();function _DumpException(e){throw e;}\n",
       " function _F_installCss(c){}\n",
       " (function(){google.jl={dw:false,em:[],emw:false,lls:'default',pdt:0,snet:true,uwp:true};})();(function(){var pmc='{\\x22d\\x22:{},\\x22sb_he\\x22:{\\x22agen\\x22:true,\\x22cgen\\x22:true,\\x22client\\x22:\\x22heirloom-hp\\x22,\\x22dh\\x22:true,\\x22dhqt\\x22:true,\\x22ds\\x22:\\x22\\x22,\\x22ffql\\x22:\\x22en\\x22,\\x22fl\\x22:true,\\x22host\\x22:\\x22google.co.in\\x22,\\x22isbh\\x22:28,\\x22jsonp\\x22:true,\\x22msgs\\x22:{\\x22cibl\\x22:\\x22Clear Search\\x22,\\x22dym\\x22:\\x22Did you mean:\\x22,\\x22lcky\\x22:\\x22I\\\\u0026#39;m Feeling Lucky\\x22,\\x22lml\\x22:\\x22Learn more\\x22,\\x22oskt\\x22:\\x22Input tools\\x22,\\x22psrc\\x22:\\x22This search was removed from your \\\\u003Ca href\\x3d\\\\\\x22/history\\\\\\x22\\\\u003EWeb History\\\\u003C/a\\\\u003E\\x22,\\x22psrl\\x22:\\x22Remove\\x22,\\x22sbit\\x22:\\x22Search by image\\x22,\\x22srch\\x22:\\x22Google Search\\x22},\\x22nrft\\x22:false,\\x22ovr\\x22:{},\\x22pq\\x22:\\x22\\x22,\\x22refpd\\x22:true,\\x22rfs\\x22:[],\\x22sbas\\x22:\\x220 3px 8px 0 rgba(0,0,0,0.2),0 0 0 1px rgba(0,0,0,0.08)\\x22,\\x22sbpl\\x22:16,\\x22sbpr\\x22:16,\\x22scd\\x22:10,\\x22stok\\x22:\\x22hGyM-h2NThdFgREnWDZ7zOYVa00\\x22,\\x22uhde\\x22:false}}';google.pmc=JSON.parse(pmc);})();</script> </body>]"
      ]
     },
     "execution_count": 15,
     "metadata": {},
     "output_type": "execute_result"
    }
   ],
   "source": [
    "soup.select('body')"
   ]
  },
  {
   "cell_type": "code",
   "execution_count": null,
   "metadata": {},
   "outputs": [],
   "source": []
  }
 ],
 "metadata": {
  "kernelspec": {
   "display_name": "Python 3",
   "language": "python",
   "name": "python3"
  },
  "language_info": {
   "codemirror_mode": {
    "name": "ipython",
    "version": 3
   },
   "file_extension": ".py",
   "mimetype": "text/x-python",
   "name": "python",
   "nbconvert_exporter": "python",
   "pygments_lexer": "ipython3",
   "version": "3.8.3"
  }
 },
 "nbformat": 4,
 "nbformat_minor": 4
}
